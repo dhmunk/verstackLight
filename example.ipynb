{
 "cells": [
  {
   "attachments": {},
   "cell_type": "markdown",
   "metadata": {},
   "source": [
    "# An example for the verstackLight package\n",
    "##### Author: Daniel Hans Munk, 2023"
   ]
  },
  {
   "cell_type": "code",
   "execution_count": null,
   "metadata": {},
   "outputs": [],
   "source": [
    "from sklearn.metrics import roc_auc_score, log_loss\n",
    "from sklearn.model_selection import train_test_split\n",
    "import numpy as np\n",
    "import pandas as pd\n",
    "\n",
    "# Import toy dataset\n",
    "from sklearn.datasets import load_iris\n",
    "iris = load_iris()\n",
    "X, y = iris.data, iris.target\n",
    "X, y = X[y != 2], y[y != 2] # Remove class: y=2 so it is a binary classification problem\n",
    "\n",
    "# We also add noisy features to make the problem harder.\n",
    "random_state = np.random.RandomState(0)\n",
    "n_samples, n_features = X.shape\n",
    "X = np.concatenate([X, random_state.randn(n_samples, 300 * n_features)], axis=1)\n",
    "\n",
    "X_train, X_test, y_train, y_test = train_test_split(\n",
    "    X, y, test_size=0.2, random_state=13\n",
    ")\n",
    "X_train, X_test, y_train, y_test  = pd.DataFrame(X_train), pd.DataFrame(X_test), pd.DataFrame(y_train), pd.DataFrame(y_test)"
   ]
  },
  {
   "attachments": {},
   "cell_type": "markdown",
   "metadata": {},
   "source": [
    "### Import verstackLight.LGBMTuner"
   ]
  },
  {
   "cell_type": "code",
   "execution_count": null,
   "metadata": {},
   "outputs": [],
   "source": [
    "import sys\n",
    "ABSOLUTE_verstackLight_FOLDER_PATH = r'./verstackLight'\n",
    "sys.path.append(ABSOLUTE_verstackLight_FOLDER_PATH[:-1].rsplit('/', 1)[0])\n",
    "from verstackLight import LGBMTuner"
   ]
  },
  {
   "cell_type": "code",
   "execution_count": null,
   "metadata": {},
   "outputs": [],
   "source": [
    "#Important that tuner-inputs are pandas dataframes\n",
    "X_train, X_test, y_train, y_test  = pd.DataFrame(X_train), pd.DataFrame(X_test), pd.DataFrame(y_train), pd.DataFrame(y_test)"
   ]
  },
  {
   "cell_type": "code",
   "execution_count": null,
   "metadata": {},
   "outputs": [],
   "source": [
    "# Initialize tuner\n",
    "tuner = LGBMTuner(metric = 'log_loss',\n",
    "                  trials = 25,\n",
    "                  refit = True,\n",
    "                  verbosity = 1,\n",
    "                  visualization = True,\n",
    "                  seed = 414243,\n",
    "                  device_type = 'cpu',\n",
    "                  n_jobs = 2)\n",
    "\n",
    "# Fit tuner\n",
    "tuner.fit(X_train, y_train.squeeze())"
   ]
  },
  {
   "cell_type": "code",
   "execution_count": null,
   "metadata": {},
   "outputs": [],
   "source": [
    "# Check score on test set\n",
    "auc_score = roc_auc_score(list(y_test.values.flatten()),list(tuner.predict(X_test)))\n",
    "log_loss_score = log_loss(list(y_test.values.flatten()),list(tuner.predict(X_test)))\n",
    "\n",
    "print(\"The auc score on test set: {:.4f}\".format(auc_score))\n",
    "print(\"The log loss score on test set: {:.20f}\".format(log_loss_score))"
   ]
  }
 ],
 "metadata": {
  "kernelspec": {
   "display_name": ".venv",
   "language": "python",
   "name": "python3"
  },
  "language_info": {
   "codemirror_mode": {
    "name": "ipython",
    "version": 3
   },
   "file_extension": ".py",
   "mimetype": "text/x-python",
   "name": "python",
   "nbconvert_exporter": "python",
   "pygments_lexer": "ipython3",
   "version": "3.9.6"
  },
  "orig_nbformat": 4
 },
 "nbformat": 4,
 "nbformat_minor": 2
}
